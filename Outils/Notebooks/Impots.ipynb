{
 "cells": [
  {
   "cell_type": "markdown",
   "id": "4c9db00f-3125-48e9-9dbb-5e56ac1126d4",
   "metadata": {},
   "source": [
    "<h1 style=\"text-align:center;font-size:36px\">CALCULER LES IMPOTS</h1>"
   ]
  },
  {
   "cell_type": "code",
   "execution_count": 16,
   "id": "8061cd1c-7f5a-474a-836b-f0661ba1cc61",
   "metadata": {},
   "outputs": [
    {
     "name": "stdout",
     "output_type": "stream",
     "text": [
      "The autoreload extension is already loaded. To reload it, use:\n",
      "  %reload_ext autoreload\n"
     ]
    }
   ],
   "source": [
    "%load_ext autoreload\n",
    "%autoreload 2"
   ]
  },
  {
   "cell_type": "code",
   "execution_count": 62,
   "id": "41b92b12-d04b-4b11-9393-48d942ee1d57",
   "metadata": {},
   "outputs": [],
   "source": [
    "import sys\n",
    "sys.path.append(r'C:\\Users\\\\martin.schoreisz\\git\\Outils\\Outils\\Martin_Perso')\n",
    "from Impots.Params import dicoBaremeProgressif\n",
    "from Impots.Calcul_Impots import Revenu, calculNombreDePart"
   ]
  },
  {
   "cell_type": "code",
   "execution_count": 78,
   "id": "d1acca76-ed50-44b5-8e5e-030dd2c324e1",
   "metadata": {},
   "outputs": [
    {
     "data": {
      "text/plain": [
       "({'tranche1': 0, 'tranche2': 1342.1979999999999}, 3355.49, '11 %', 22426.8)"
      ]
     },
     "execution_count": 78,
     "metadata": {},
     "output_type": "execute_result"
    }
   ],
   "source": [
    "# 2021 normal\n",
    "revenu = Revenu('2021', 56067, 2, 1)\n",
    "revenu.dicoImpotsRevenuParTranche, revenu.montantImpotRevenu, revenu.tauxMarginalImposition, revenu.quotientFamilial"
   ]
  },
  {
   "cell_type": "code",
   "execution_count": 80,
   "id": "872ed290-e1b9-4a70-b3a8-52a24d497b7a",
   "metadata": {},
   "outputs": [
    {
     "data": {
      "text/plain": [
       "({'tranche1': 0, 'tranche2': 1742.95, 'tranche3': 1203.0264},\n",
       " 7364.94,\n",
       " '30 %',\n",
       " 30080.088)"
      ]
     },
     "execution_count": 80,
     "metadata": {},
     "output_type": "execute_result"
    }
   ],
   "source": [
    "# 2022 avec les ISS complet (6 sur 6 )\n",
    "revenu = Revenu('2021', 75200.22, 2, 1)\n",
    "revenu.dicoImpotsRevenuParTranche, revenu.montantImpotRevenu, revenu.tauxMarginalImposition, revenu.quotientFamilial"
   ]
  },
  {
   "cell_type": "code",
   "execution_count": 81,
   "id": "96905369-f2bd-4536-b0ed-fb26014415d5",
   "metadata": {},
   "outputs": [
    {
     "data": {
      "text/plain": [
       "({'tranche1': 0, 'tranche2': 1482.4809999999998}, 3706.2, '11 %', 23702.1)"
      ]
     },
     "execution_count": 81,
     "metadata": {},
     "output_type": "execute_result"
    }
   ],
   "source": [
    "# 2022 avec 1 versement d'ISS\n",
    "revenu = Revenu('2021', 59255.25, 2, 1)\n",
    "revenu.dicoImpotsRevenuParTranche, revenu.montantImpotRevenu, revenu.tauxMarginalImposition, revenu.quotientFamilial"
   ]
  },
  {
   "cell_type": "code",
   "execution_count": 82,
   "id": "0bf2b7d4-bb8f-46ea-93ef-79185e2bf46c",
   "metadata": {},
   "outputs": [
    {
     "data": {
      "text/plain": [
       "1905.1899999999996"
      ]
     },
     "execution_count": 82,
     "metadata": {},
     "output_type": "execute_result"
    }
   ],
   "source": [
    "# différentiel entre étalement et tout d'un coup : \n",
    "(7364.94 - 3355.49) - ((3706.2 - 3355.49) * 6)"
   ]
  },
  {
   "cell_type": "code",
   "execution_count": null,
   "id": "31d4267e-707a-4abb-9c1a-63306baab243",
   "metadata": {},
   "outputs": [],
   "source": []
  }
 ],
 "metadata": {
  "kernelspec": {
   "display_name": "Python 3 (ipykernel)",
   "language": "python",
   "name": "python3"
  },
  "language_info": {
   "codemirror_mode": {
    "name": "ipython",
    "version": 3
   },
   "file_extension": ".py",
   "mimetype": "text/x-python",
   "name": "python",
   "nbconvert_exporter": "python",
   "pygments_lexer": "ipython3",
   "version": "3.10.4"
  }
 },
 "nbformat": 4,
 "nbformat_minor": 5
}
