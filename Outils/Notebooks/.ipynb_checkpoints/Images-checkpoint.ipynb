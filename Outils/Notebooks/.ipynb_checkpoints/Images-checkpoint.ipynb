{
 "cells": [
  {
   "cell_type": "markdown",
   "id": "4be941eb-20be-488e-b492-1285c22dc5c7",
   "metadata": {},
   "source": [
    "# GESTION DES IMAGES AVEC PYTHON"
   ]
  },
  {
   "cell_type": "code",
   "execution_count": null,
   "id": "a7c58fde-9453-4c1a-9e51-7ba9d5e265e7",
   "metadata": {},
   "outputs": [],
   "source": []
  }
 ],
 "metadata": {
  "kernelspec": {
   "display_name": "Python 3 (ipykernel)",
   "language": "python",
   "name": "python3"
  },
  "language_info": {
   "codemirror_mode": {
    "name": "ipython",
    "version": 3
   },
   "file_extension": ".py",
   "mimetype": "text/x-python",
   "name": "python",
   "nbconvert_exporter": "python",
   "pygments_lexer": "ipython3",
   "version": "3.10.4"
  }
 },
 "nbformat": 4,
 "nbformat_minor": 5
}
