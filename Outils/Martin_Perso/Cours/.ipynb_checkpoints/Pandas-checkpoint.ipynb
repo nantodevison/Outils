{
 "cells": [
  {
   "cell_type": "code",
   "execution_count": 1,
   "metadata": {},
   "outputs": [],
   "source": [
    "%load_ext autoreload\n",
    "%autoreload 2\n",
    "import pandas as pd"
   ]
  },
  {
   "cell_type": "markdown",
   "metadata": {},
   "source": [
    "# DATE"
   ]
  },
  {
   "cell_type": "code",
   "execution_count": null,
   "metadata": {},
   "outputs": [],
   "source": [
    "#Verofoer si une date est dans une période de temps\n",
    "#https://stackoverflow.com/questions/35854769/check-if-a-pandas-timestamp-is-in-a-pandas-period/35854920?noredirect=1#comment59376466_35854920\n",
    "#l'astuce résulte dans la transfrmation de la dtae en préiod, avec une duréee égale à la priode de compraraison\n",
    "x['date_cam_1'].to_period('D')==pd.Period('2019-01-29',freq='D')"
   ]
  },
  {
   "cell_type": "code",
   "execution_count": null,
   "metadata": {},
   "outputs": [],
   "source": [
    "#convertir une date en integer\n",
    "(date - pd.Timestamp(\"1970-01-01\")) // pd.Timedelta('1s'))"
   ]
  },
  {
   "cell_type": "code",
   "execution_count": null,
   "metadata": {},
   "outputs": [],
   "source": [
    "#arrondir des dates \n",
    "utiliser dt.round ou dt.floor ou dt.ceil"
   ]
  },
  {
   "cell_type": "markdown",
   "metadata": {},
   "source": [
    "# COLONNE"
   ]
  },
  {
   "cell_type": "markdown",
   "metadata": {},
   "source": [
    "> **Renommer**"
   ]
  },
  {
   "cell_type": "code",
   "execution_count": null,
   "metadata": {},
   "outputs": [],
   "source": [
    "df_adj.columns=['cam_adj','date_adj']\n",
    "df_adj.rename(columns={'vieu':'cam_adj','autre_vieu':'date_adj'})"
   ]
  },
  {
   "cell_type": "markdown",
   "metadata": {},
   "source": [
    "> **Remplir**"
   ]
  },
  {
   "cell_type": "code",
   "execution_count": null,
   "metadata": {},
   "outputs": [],
   "source": [
    "# Multiple remplissage (le principe : une fonction renvoi plusieurs valeurs, et on utilise l'attribut result_type = expand de apply, puis on on merge avec la base)\n",
    "df_adj=dico_od_copie.apply(lambda x : t.cam_adjacente(x['immat'],x['date_cam_1'],x['date_cam_2'],x['o_d'],df_immats),axis=1,result_type='expand') #construire les colonnes de temps de \n",
    "df_adj.columns=['cam_adj','date_adj']\n",
    "dico_od_copie.merge(df_adj, left_index=True, right_index=True)"
   ]
  }
 ],
 "metadata": {
  "kernelspec": {
   "display_name": "Python 3",
   "language": "python",
   "name": "python3"
  },
  "language_info": {
   "codemirror_mode": {
    "name": "ipython",
    "version": 3
   },
   "file_extension": ".py",
   "mimetype": "text/x-python",
   "name": "python",
   "nbconvert_exporter": "python",
   "pygments_lexer": "ipython3",
   "version": "3.7.0"
  }
 },
 "nbformat": 4,
 "nbformat_minor": 2
}
