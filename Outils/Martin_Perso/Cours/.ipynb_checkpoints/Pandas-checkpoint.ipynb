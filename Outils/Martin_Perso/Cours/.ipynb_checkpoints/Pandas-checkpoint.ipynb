{
 "cells": [
  {
   "cell_type": "code",
   "execution_count": 1,
   "metadata": {},
   "outputs": [],
   "source": [
    "%load_ext autoreload\n",
    "%autoreload 2\n",
    "import pandas as pd"
   ]
  },
  {
   "cell_type": "markdown",
   "metadata": {},
   "source": [
    "# DATE"
   ]
  },
  {
   "cell_type": "code",
   "execution_count": null,
   "metadata": {},
   "outputs": [],
   "source": [
    "#Verofoer si une date est dans une période de temps\n",
    "#https://stackoverflow.com/questions/35854769/check-if-a-pandas-timestamp-is-in-a-pandas-period/35854920?noredirect=1#comment59376466_35854920\n",
    "#l'astuce résulte dans la transfrmation de la dtae en préiod, avec une duréee égale à la priode de compraraison\n",
    "x['date_cam_1'].to_period('D')==pd.Period('2019-01-29',freq='D')"
   ]
  },
  {
   "cell_type": "code",
   "execution_count": null,
   "metadata": {},
   "outputs": [],
   "source": [
    "#convertir une date en integer\n",
    "(date - pd.Timestamp(\"1970-01-01\")) // pd.Timedelta('1s'))"
   ]
  },
  {
   "cell_type": "code",
   "execution_count": null,
   "metadata": {},
   "outputs": [],
   "source": [
    "#arrondir des dates \n",
    "utiliser dt.round ou dt.floor ou dt.ceil"
   ]
  },
  {
   "cell_type": "code",
   "execution_count": null,
   "metadata": {},
   "outputs": [],
   "source": [
    "#grouper par ouvrés\n",
    "groupe_jo=synt_nb_veh_cam.loc[synt_nb_veh_cam.set_index('created').index.dayofweek < 5].groupby(['camera_id','heure','type']).mean().reset_index()\n",
    "#filtrer par jours ouvré\n",
    "pour_graph2=pour_graph.loc[(pour_graph.set_index('h_rocade').index.dayofweek<5) ]"
   ]
  },
  {
   "cell_type": "markdown",
   "metadata": {},
   "source": [
    "# COLONNE"
   ]
  },
  {
   "cell_type": "markdown",
   "metadata": {},
   "source": [
    "> **Renommer**"
   ]
  },
  {
   "cell_type": "code",
   "execution_count": null,
   "metadata": {},
   "outputs": [],
   "source": [
    "df_adj.columns=['cam_adj','date_adj']\n",
    "df_adj.rename(columns={'vieu':'cam_adj','autre_vieu':'date_adj'})"
   ]
  },
  {
   "cell_type": "markdown",
   "metadata": {},
   "source": [
    "> **Remplir**"
   ]
  },
  {
   "cell_type": "code",
   "execution_count": null,
   "metadata": {},
   "outputs": [],
   "source": [
    "# Multiple remplissage (le principe : une fonction renvoi plusieurs valeurs, et on utilise l'attribut result_type = expand de apply, puis on on merge avec la base)\n",
    "df_adj=dico_od_copie.apply(lambda x : t.cam_adjacente(x['immat'],x['date_cam_1'],x['date_cam_2'],x['o_d'],df_immats),axis=1,result_type='expand') #construire les colonnes de temps de \n",
    "df_adj.columns=['cam_adj','date_adj']\n",
    "dico_od_copie.merge(df_adj, left_index=True, right_index=True)"
   ]
  },
  {
   "cell_type": "markdown",
   "metadata": {},
   "source": [
    "> **Attribut de groupement semon condition sur temps proches**"
   ]
  },
  {
   "cell_type": "code",
   "execution_count": null,
   "metadata": {},
   "outputs": [],
   "source": [
    "#trier les données selon la colonne qui va servir a groupe\n",
    "df_triee=df_3semaines.sort_values(['immat','created','camera_id','fiability'])\n",
    "#creer l'attribut qui traduit le groupe\n",
    "df_triee['id']=(df_triee.created - df_triee.created.shift(1) > pd.Timedelta(seconds=10)).fillna(0).cumsum(skipna=False)\n",
    "#supprimer les doublons selon les attributs"
   ]
  },
  {
   "cell_type": "code",
   "execution_count": 1,
   "metadata": {},
   "outputs": [],
   "source": [
    "import re"
   ]
  },
  {
   "cell_type": "code",
   "execution_count": 29,
   "metadata": {},
   "outputs": [
    {
     "data": {
      "text/plain": [
       "<re.Match object; span=(0, 7), match='WW09A9Y'>"
      ]
     },
     "execution_count": 29,
     "metadata": {},
     "output_type": "execute_result"
    }
   ],
   "source": [
    "re.match('^(W{2})([0-9,A-Z]{4,5})([A,M,F,G,H,J,K,N,V,W,Y])$','WW09A9Y')"
   ]
  },
  {
   "cell_type": "markdown",
   "metadata": {},
   "source": [
    "> **compter le nombre de valeurs différentes**"
   ]
  },
  {
   "cell_type": "code",
   "execution_count": null,
   "metadata": {},
   "outputs": [],
   "source": [
    "toto=valid_plaque.loc[(~valid_plaque['validite'])].plaque_ouverte.value_counts()"
   ]
  }
 ],
 "metadata": {
  "kernelspec": {
   "display_name": "Python 3",
   "language": "python",
   "name": "python3"
  },
  "language_info": {
   "codemirror_mode": {
    "name": "ipython",
    "version": 3
   },
   "file_extension": ".py",
   "mimetype": "text/x-python",
   "name": "python",
   "nbconvert_exporter": "python",
   "pygments_lexer": "ipython3",
   "version": "3.7.0"
  }
 },
 "nbformat": 4,
 "nbformat_minor": 2
}
