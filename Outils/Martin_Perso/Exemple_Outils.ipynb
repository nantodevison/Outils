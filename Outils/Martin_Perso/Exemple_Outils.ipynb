{
 "cells": [
  {
   "cell_type": "markdown",
   "metadata": {},
   "source": [
    "# **NOTEBOOK D'UTILISATION DE CERTAINES FONCTIONALITEES PERSO**"
   ]
  },
  {
   "cell_type": "code",
   "execution_count": 5,
   "metadata": {},
   "outputs": [
    {
     "name": "stdout",
     "output_type": "stream",
     "text": [
      "The autoreload extension is already loaded. To reload it, use:\n",
      "  %reload_ext autoreload\n"
     ]
    }
   ],
   "source": [
    "%load_ext autoreload\n",
    "%autoreload 2\n",
    "import sys #c'est pas propre mais pour le moment pour importer mes modules perso dans le notebook je ne sais pas faire\n",
    "sys.path.append(r'C:\\Users\\martin.schoreisz\\git\\Outils\\Outils\\Martin_Perso')\n",
    "sys.path.append(r'C:\\Users\\martin.schoreisz\\git\\otv\\otv\\Transfert_Donnees')\n",
    "sys.path.append(r'C:\\Users\\martin.schoreisz\\git\\Lin_uniq_BdxM\\Lin_uniq_BdxM\\Traitements')\n",
    "import Connexion_Transfert as ct\n",
    "from datetime import datetime\n",
    "from collections import Counter\n",
    "from geoalchemy2 import Geometry,WKTElement\n",
    "import geopandas as gp\n",
    "import pandas as pd\n",
    "import numpy as np\n",
    "import shutil, subprocess\n",
    "\n",
    "from Outils import creer_graph, plus_proche_voisin,nb_noeud_unique_troncon_continu,verif_index, gp_changer_nom_geom\n",
    "from Decorateurs import concat_df\n",
    "\n",
    "pd.set_option('display.max_columns', 100)\n",
    "pd.set_option('display.max_rows', 20)\n",
    "pd.set_option('display.max_colwidth', 50)"
   ]
  },
  {
   "cell_type": "code",
   "execution_count": null,
   "metadata": {},
   "outputs": [],
   "source": [
    "#TELECHARGER DES DONNEES depuis leserveur geomatique et les passer dans un fichier\n",
    "@concat_df\n",
    "def creer_dept(fichier):\n",
    "    return gp.read_file(fichier)\n",
    "\n",
    "liste_f=[fr'D:\\temp\\PlaMADE\\donnees\\N_TRONCON_ROUTE_BDT_0{d}.SHP' for d in  ['16','17','86','79','19','23','87','33','24','40','64','47']]\n",
    "df_tot=creer_dept(liste_f)"
   ]
  },
  {
   "cell_type": "code",
   "execution_count": null,
   "metadata": {},
   "outputs": [],
   "source": [
    "#trsnfere des données dans une bdd\n",
    "with ct.ConnexionBdd('local_otv_station_gti') as c :\n",
    "    for d in ['17','86','79','19','23','87','33','24','40','64','47'] :\n",
    "        fichier=fr'D:\\temp\\PlaMADE\\donnees\\N_TRONCON_ROUTE_BDT_0{d}.SHP'\n",
    "        ct.ogr2ogr_shp2pg(c.connstringOgr,fichier,schema='plamade', table='troncon_route_bdt17_l',SRID='2154',\n",
    "                          geotype='MULTILINESTRINGZ', dims=3, creationMode='-append -update',encodageClient='UTF-8')"
   ]
  },
  {
   "cell_type": "code",
   "execution_count": 6,
   "metadata": {},
   "outputs": [
    {
     "name": "stdout",
     "output_type": "stream",
     "text": [
      "debut import fichier D:\\temp\\Linearisation_BM\\C19SA0101\\C19SA0101\\Doc_travail\\Donnees_source\\IGN\\Bdtopo_BdxMet_ed18_l.shp avec shape2pg à 10:55:40 \n",
      " avec commande ogr2ogr  -f \"postgreSQL\" --config PG_USE_COPY YES -a_srs \"EPSG:2154\"  -nlt LINESTRINGZ -dim 3 -lco \"SCHEMA=linearisation_bm\" -lco GEOMETRY_NAME=geom PG:\"host=localhost dbname=otv user=postgres password=postgres port=5432\" D:\\temp\\Linearisation_BM\\C19SA0101\\C19SA0101\\Doc_travail\\Donnees_source\\IGN\\Bdtopo_BdxMet_ed18_l.shp -nln linearisation_bm.Bdtopo_BdxMet_ed18_l \n",
      "Fait\n"
     ]
    }
   ],
   "source": [
    "with ct.ConnexionBdd('local_otv') as c :\n",
    "    fichier=r'D:\\temp\\Linearisation_BM\\C19SA0101\\C19SA0101\\Doc_travail\\Donnees_source\\IGN\\Bdtopo_BdxMet_ed18_l.shp'\n",
    "    ct.ogr2ogr_shp2pg(c.connstringOgr,fichier,schema='linearisation_bm', table='Bdtopo_BdxMet_ed18_l',SRID='2154',\n",
    "                          geotype='LINESTRINGZ', dims=3, creationMode='',encodageClient='UTF-8')"
   ]
  },
  {
   "cell_type": "code",
   "execution_count": 5,
   "metadata": {},
   "outputs": [
    {
     "name": "stdout",
     "output_type": "stream",
     "text": [
      "debut export fichier D:\\temp\\otv\\2018\\livrables_OTR_2018\\sigena_d_2014_2018_p.shp \n",
      " a 14:04:30 \n",
      " avec commande ogr2ogr -f \"ESRI shapefile\" D:\\temp\\otv\\2018\\livrables_OTR_2018\\sigena_d_2014_2018_p.shp PG:\"host=localhost dbname=statio_gti_otv user=postgres password=postgres port=5432\"  -sql \"select * from livrable.sigena_d_2014_2018_p\" \n",
      "Fait\n"
     ]
    }
   ],
   "source": [
    "with ct.ConnexionBdd('local_otv_station_gti') as c :\n",
    "    fichier=fr'D:\\temp\\PlaMADE\\donnees\\N_TRONCON_ROUTE_BDT_016.SHP'\n",
    "    ct.Ogr2ogr_pg2shp(c.connstringOgr,r'D:\\temp\\otv\\2018\\livrables_OTR_2018\\sigena_d_2014_2018_p.shp',\n",
    "                     \"select * from livrable.sigena_d_2014_2018_p\")"
   ]
  },
  {
   "cell_type": "code",
   "execution_count": 33,
   "metadata": {},
   "outputs": [
    {
     "name": "stdout",
     "output_type": "stream",
     "text": [
      "debut import fichier D:\\temp\\PlaMADE\\base_nationale\\structure_PlaMADE38\\N_ROUTIER_ROUTE_038.dbf avec shape2pg à 01:47:05 \n",
      " avec commande ogr2ogr -update -append -f \"postgreSQL\" --config PG_USE_COPY YES -lco \"SCHEMA=plamade\" PG:\"host=localhost dbname=statio_gti_otv user=postgres password=postgres port=5432\" D:\\temp\\PlaMADE\\base_nationale\\structure_PlaMADE38\\N_ROUTIER_ROUTE_038.dbf -nln plamade.n_routier_route_france -fieldmap 0,-1,-1,-1,4,-1,-1,-1,-1,-1,-1,-1,-1,-1\n",
      "Fait\n"
     ]
    }
   ],
   "source": [
    "with ct.ConnexionBdd('local_otv_station_gti') as c :\n",
    "    ct.ogr2ogr_dbf2pg(c.connstringOgr,r'D:\\temp\\PlaMADE\\base_nationale\\structure_PlaMADE38\\N_ROUTIER_ROUTE_038.dbf',\n",
    "                      schema='plamade', table='n_routier_route_france',creationMode='-update -append',encodageClient='UTF-8',fieldmap='0,-1,-1,-1,4,-1,-1,-1,-1,-1,-1,-1,-1,-1')"
   ]
  },
  {
   "cell_type": "code",
   "execution_count": null,
   "metadata": {},
   "outputs": [],
   "source": [
    "    \"\"\"connexion=c.connstringOgr.replace(' ','\\\"',1)\n",
    "    creationMode='-update -append'\n",
    "    #creationMode=''\n",
    "    schema='plamade'\n",
    "    table='n_routier_route_france'\n",
    "    encodage='SET PGCLIENTENCODING='+'UTF-8'\n",
    "    redirection_gdaldata=\"cd C:\\Program Files\\GDAL\\gdal-data\"\n",
    "    fichier=r'D:\\temp\\PlaMADE\\base_nationale\\structure_PlaMADE38\\N_ROUTIER_ROUTE_038.dbf'\n",
    "    fieldmap='0,-1,-1,-1,4,-1,-1,-1,-1,-1,-1,-1,-1,-1'\n",
    "    sql=f'select idroute from {schema}.{table}'\n",
    "    cmd=f'ogr2ogr {creationMode} -f \"postgreSQL\" --config PG_USE_COPY YES -lco \"SCHEMA={schema}\" {connexion}\\\" {fichier} -nln {schema}.{table}'\n",
    "    commande=redirection_gdaldata+\" && \"+encodage+\" && \"+cmd\n",
    "    print(f\"debut import fichier {fichier} avec shape2pg à {datetime.now().time().isoformat(timespec='seconds')} \\n avec commande {cmd}\")\n",
    "    subprocess.call(commande,shell=True)\n",
    "    print('Fait')\n",
    "    \"\"\""
   ]
  }
 ],
 "metadata": {
  "kernelspec": {
   "display_name": "Python 3",
   "language": "python",
   "name": "python3"
  },
  "language_info": {
   "codemirror_mode": {
    "name": "ipython",
    "version": 3
   },
   "file_extension": ".py",
   "mimetype": "text/x-python",
   "name": "python",
   "nbconvert_exporter": "python",
   "pygments_lexer": "ipython3",
   "version": "3.7.0"
  }
 },
 "nbformat": 4,
 "nbformat_minor": 4
}
