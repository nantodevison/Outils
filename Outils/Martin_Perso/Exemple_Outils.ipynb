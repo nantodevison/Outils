{
 "cells": [
  {
   "cell_type": "markdown",
   "metadata": {},
   "source": [
    "# **NOTEBOOK D'UTILISATION DE CERTAINES FONCTIONALITEES PERSO**"
   ]
  },
  {
   "cell_type": "code",
   "execution_count": 2,
   "metadata": {},
   "outputs": [],
   "source": [
    "%load_ext autoreload\n",
    "%autoreload 2\n",
    "import sys #c'est pas propre mais pour le moment pour importer mes modules perso dans le notebook je ne sais pas faire\n",
    "sys.path.append(r'C:\\Users\\martin.schoreisz\\git\\Outils\\Outils\\Martin_Perso')\n",
    "sys.path.append(r'C:\\Users\\martin.schoreisz\\git\\otv\\otv\\Transfert_Donnees')\n",
    "sys.path.append(r'C:\\Users\\martin.schoreisz\\git\\Lin_uniq_BdxM\\Lin_uniq_BdxM\\Traitements')\n",
    "import Connexion_Transfert as ct\n",
    "from datetime import datetime\n",
    "from collections import Counter\n",
    "from geoalchemy2 import Geometry,WKTElement\n",
    "import geopandas as gp\n",
    "import pandas as pd\n",
    "import numpy as np\n",
    "import shutil\n",
    "\n",
    "from Outils import creer_graph, plus_proche_voisin,nb_noeud_unique_troncon_continu,verif_index, gp_changer_nom_geom\n",
    "from Decorateurs import concat_df\n",
    "\n",
    "pd.set_option('display.max_columns', 100)\n",
    "pd.set_option('display.max_rows', 20)\n",
    "pd.set_option('display.max_colwidth', 50)"
   ]
  },
  {
   "cell_type": "code",
   "execution_count": null,
   "metadata": {},
   "outputs": [],
   "source": [
    "#TELECHARGER DES DONNEES depuis leserveur geomatique et les passer dans un fichier\n",
    "@concat_df\n",
    "def creer_dept(fichier):\n",
    "    return gp.read_file(fichier)\n",
    "\n",
    "liste_f=[fr'D:\\temp\\PlaMADE\\donnees\\N_TRONCON_ROUTE_BDT_0{d}.SHP' for d in  ['16','17','86','79','19','23','87','33','24','40','64','47']]\n",
    "df_tot=creer_dept(liste_f)"
   ]
  },
  {
   "cell_type": "code",
   "execution_count": 7,
   "metadata": {},
   "outputs": [
    {
     "name": "stdout",
     "output_type": "stream",
     "text": [
      "debut import fichier D:\\temp\\PlaMADE\\donnees\\N_TRONCON_ROUTE_BDT_017.SHP avec shape2pg à 22:39:44 \n",
      " avec commande ogr2ogr -append -update -f \"postgreSQL\" --config PG_USE_COPY YES -a_srs \"EPSG:2154\"  -nlt MULTILINESTRINGZ -dim 3 -lco \"SCHEMA=plamade\" -lco GEOMETRY_NAME=geom PG:\"host=localhost dbname=statio_gti_otv user=postgres password=postgres port=5432\" D:\\temp\\PlaMADE\\donnees\\N_TRONCON_ROUTE_BDT_017.SHP -nln plamade.troncon_route_bdt17_l \n",
      "Fait\n",
      "debut import fichier D:\\temp\\PlaMADE\\donnees\\N_TRONCON_ROUTE_BDT_086.SHP avec shape2pg à 22:40:04 \n",
      " avec commande ogr2ogr -append -update -f \"postgreSQL\" --config PG_USE_COPY YES -a_srs \"EPSG:2154\"  -nlt MULTILINESTRINGZ -dim 3 -lco \"SCHEMA=plamade\" -lco GEOMETRY_NAME=geom PG:\"host=localhost dbname=statio_gti_otv user=postgres password=postgres port=5432\" D:\\temp\\PlaMADE\\donnees\\N_TRONCON_ROUTE_BDT_086.SHP -nln plamade.troncon_route_bdt17_l \n",
      "Fait\n",
      "debut import fichier D:\\temp\\PlaMADE\\donnees\\N_TRONCON_ROUTE_BDT_079.SHP avec shape2pg à 22:40:21 \n",
      " avec commande ogr2ogr -append -update -f \"postgreSQL\" --config PG_USE_COPY YES -a_srs \"EPSG:2154\"  -nlt MULTILINESTRINGZ -dim 3 -lco \"SCHEMA=plamade\" -lco GEOMETRY_NAME=geom PG:\"host=localhost dbname=statio_gti_otv user=postgres password=postgres port=5432\" D:\\temp\\PlaMADE\\donnees\\N_TRONCON_ROUTE_BDT_079.SHP -nln plamade.troncon_route_bdt17_l \n",
      "Fait\n",
      "debut import fichier D:\\temp\\PlaMADE\\donnees\\N_TRONCON_ROUTE_BDT_019.SHP avec shape2pg à 22:40:46 \n",
      " avec commande ogr2ogr -append -update -f \"postgreSQL\" --config PG_USE_COPY YES -a_srs \"EPSG:2154\"  -nlt MULTILINESTRINGZ -dim 3 -lco \"SCHEMA=plamade\" -lco GEOMETRY_NAME=geom PG:\"host=localhost dbname=statio_gti_otv user=postgres password=postgres port=5432\" D:\\temp\\PlaMADE\\donnees\\N_TRONCON_ROUTE_BDT_019.SHP -nln plamade.troncon_route_bdt17_l \n",
      "Fait\n",
      "debut import fichier D:\\temp\\PlaMADE\\donnees\\N_TRONCON_ROUTE_BDT_023.SHP avec shape2pg à 22:41:45 \n",
      " avec commande ogr2ogr -append -update -f \"postgreSQL\" --config PG_USE_COPY YES -a_srs \"EPSG:2154\"  -nlt MULTILINESTRINGZ -dim 3 -lco \"SCHEMA=plamade\" -lco GEOMETRY_NAME=geom PG:\"host=localhost dbname=statio_gti_otv user=postgres password=postgres port=5432\" D:\\temp\\PlaMADE\\donnees\\N_TRONCON_ROUTE_BDT_023.SHP -nln plamade.troncon_route_bdt17_l \n",
      "Fait\n",
      "debut import fichier D:\\temp\\PlaMADE\\donnees\\N_TRONCON_ROUTE_BDT_087.SHP avec shape2pg à 22:43:05 \n",
      " avec commande ogr2ogr -append -update -f \"postgreSQL\" --config PG_USE_COPY YES -a_srs \"EPSG:2154\"  -nlt MULTILINESTRINGZ -dim 3 -lco \"SCHEMA=plamade\" -lco GEOMETRY_NAME=geom PG:\"host=localhost dbname=statio_gti_otv user=postgres password=postgres port=5432\" D:\\temp\\PlaMADE\\donnees\\N_TRONCON_ROUTE_BDT_087.SHP -nln plamade.troncon_route_bdt17_l \n",
      "Fait\n",
      "debut import fichier D:\\temp\\PlaMADE\\donnees\\N_TRONCON_ROUTE_BDT_033.SHP avec shape2pg à 22:43:23 \n",
      " avec commande ogr2ogr -append -update -f \"postgreSQL\" --config PG_USE_COPY YES -a_srs \"EPSG:2154\"  -nlt MULTILINESTRINGZ -dim 3 -lco \"SCHEMA=plamade\" -lco GEOMETRY_NAME=geom PG:\"host=localhost dbname=statio_gti_otv user=postgres password=postgres port=5432\" D:\\temp\\PlaMADE\\donnees\\N_TRONCON_ROUTE_BDT_033.SHP -nln plamade.troncon_route_bdt17_l \n",
      "Fait\n",
      "debut import fichier D:\\temp\\PlaMADE\\donnees\\N_TRONCON_ROUTE_BDT_024.SHP avec shape2pg à 22:47:08 \n",
      " avec commande ogr2ogr -append -update -f \"postgreSQL\" --config PG_USE_COPY YES -a_srs \"EPSG:2154\"  -nlt MULTILINESTRINGZ -dim 3 -lco \"SCHEMA=plamade\" -lco GEOMETRY_NAME=geom PG:\"host=localhost dbname=statio_gti_otv user=postgres password=postgres port=5432\" D:\\temp\\PlaMADE\\donnees\\N_TRONCON_ROUTE_BDT_024.SHP -nln plamade.troncon_route_bdt17_l \n",
      "Fait\n",
      "debut import fichier D:\\temp\\PlaMADE\\donnees\\N_TRONCON_ROUTE_BDT_040.SHP avec shape2pg à 22:47:59 \n",
      " avec commande ogr2ogr -append -update -f \"postgreSQL\" --config PG_USE_COPY YES -a_srs \"EPSG:2154\"  -nlt MULTILINESTRINGZ -dim 3 -lco \"SCHEMA=plamade\" -lco GEOMETRY_NAME=geom PG:\"host=localhost dbname=statio_gti_otv user=postgres password=postgres port=5432\" D:\\temp\\PlaMADE\\donnees\\N_TRONCON_ROUTE_BDT_040.SHP -nln plamade.troncon_route_bdt17_l \n",
      "Fait\n",
      "debut import fichier D:\\temp\\PlaMADE\\donnees\\N_TRONCON_ROUTE_BDT_064.SHP avec shape2pg à 22:52:36 \n",
      " avec commande ogr2ogr -append -update -f \"postgreSQL\" --config PG_USE_COPY YES -a_srs \"EPSG:2154\"  -nlt MULTILINESTRINGZ -dim 3 -lco \"SCHEMA=plamade\" -lco GEOMETRY_NAME=geom PG:\"host=localhost dbname=statio_gti_otv user=postgres password=postgres port=5432\" D:\\temp\\PlaMADE\\donnees\\N_TRONCON_ROUTE_BDT_064.SHP -nln plamade.troncon_route_bdt17_l \n",
      "Fait\n",
      "debut import fichier D:\\temp\\PlaMADE\\donnees\\N_TRONCON_ROUTE_BDT_047.SHP avec shape2pg à 22:52:55 \n",
      " avec commande ogr2ogr -append -update -f \"postgreSQL\" --config PG_USE_COPY YES -a_srs \"EPSG:2154\"  -nlt MULTILINESTRINGZ -dim 3 -lco \"SCHEMA=plamade\" -lco GEOMETRY_NAME=geom PG:\"host=localhost dbname=statio_gti_otv user=postgres password=postgres port=5432\" D:\\temp\\PlaMADE\\donnees\\N_TRONCON_ROUTE_BDT_047.SHP -nln plamade.troncon_route_bdt17_l \n",
      "Fait\n"
     ]
    }
   ],
   "source": [
    "#trsnfere des données dans une bdd\n",
    "with ct.ConnexionBdd('local_otv_station_gti') as c :\n",
    "    for d in ['17','86','79','19','23','87','33','24','40','64','47'] :\n",
    "        fichier=fr'D:\\temp\\PlaMADE\\donnees\\N_TRONCON_ROUTE_BDT_0{d}.SHP'\n",
    "        ct.ogr2ogr_shp2pg(c.connstringOgr,fichier,schema='plamade', table='troncon_route_bdt17_l',SRID='2154',\n",
    "                          geotype='MULTILINESTRINGZ', dims=3, creationMode='-append -update',encodageClient='UTF-8')"
   ]
  },
  {
   "cell_type": "code",
   "execution_count": 6,
   "metadata": {},
   "outputs": [
    {
     "name": "stdout",
     "output_type": "stream",
     "text": [
      "debut import fichier D:\\temp\\PlaMADE\\donnees\\N_TRONCON_ROUTE_BDT_016.SHP avec shape2pg à 22:39:15 \n",
      " avec commande ogr2ogr  -f \"postgreSQL\" --config PG_USE_COPY YES -a_srs \"EPSG:2154\"  -nlt MULTILINESTRINGZ -dim 3 -lco \"SCHEMA=plamade\" -lco GEOMETRY_NAME=geom PG:\"host=localhost dbname=statio_gti_otv user=postgres password=postgres port=5432\" D:\\temp\\PlaMADE\\donnees\\N_TRONCON_ROUTE_BDT_016.SHP -nln plamade.troncon_route_bdt17_l \n",
      "Fait\n"
     ]
    }
   ],
   "source": [
    "with ct.ConnexionBdd('local_otv_station_gti') as c :\n",
    "    fichier=fr'D:\\temp\\PlaMADE\\donnees\\N_TRONCON_ROUTE_BDT_016.SHP'\n",
    "    ct.ogr2ogr_shp2pg(c.connstringOgr,fichier,schema='plamade', table='troncon_route_bdt17_l',SRID='2154',\n",
    "                          geotype='MULTILINESTRINGZ', dims=3, creationMode='',encodageClient='UTF-8')"
   ]
  },
  {
   "cell_type": "code",
   "execution_count": null,
   "metadata": {},
   "outputs": [],
   "source": []
  }
 ],
 "metadata": {
  "kernelspec": {
   "display_name": "Python 3",
   "language": "python",
   "name": "python3"
  },
  "language_info": {
   "codemirror_mode": {
    "name": "ipython",
    "version": 3
   },
   "file_extension": ".py",
   "mimetype": "text/x-python",
   "name": "python",
   "nbconvert_exporter": "python",
   "pygments_lexer": "ipython3",
   "version": "3.7.0"
  }
 },
 "nbformat": 4,
 "nbformat_minor": 4
}
