{
 "cells": [
  {
   "cell_type": "markdown",
   "metadata": {},
   "source": [
    "# **NOTEBOOK D'UTILISATION DE CERTAINES FONCTIONALITEES PERSO**"
   ]
  },
  {
   "cell_type": "code",
   "execution_count": 9,
   "metadata": {},
   "outputs": [
    {
     "name": "stdout",
     "output_type": "stream",
     "text": [
      "The autoreload extension is already loaded. To reload it, use:\n",
      "  %reload_ext autoreload\n"
     ]
    }
   ],
   "source": [
    "%load_ext autoreload\n",
    "%autoreload 2\n",
    "import sys #c'est pas propre mais pour le moment pour importer mes modules perso dans le notebook je ne sais pas faire\n",
    "sys.path.append(r'C:\\Users\\martin.schoreisz\\git\\Outils\\Outils\\Martin_Perso')\n",
    "sys.path.append(r'C:\\Users\\martin.schoreisz\\git\\otv\\otv\\Transfert_Donnees')\n",
    "sys.path.append(r'C:\\Users\\martin.schoreisz\\git\\Lin_uniq_BdxM\\Lin_uniq_BdxM\\Traitements')\n",
    "import Connexion_Transfert as ct\n",
    "from datetime import datetime\n",
    "from collections import Counter\n",
    "import geopandas as gp\n",
    "import pandas as pd\n",
    "import numpy as np\n",
    "import shutil\n",
    "\n",
    "from Outils import creer_graph, plus_proche_voisin,nb_noeud_unique_troncon_continu,verif_index, gp_changer_nom_geom\n",
    "from Decorateurs import concat_df\n",
    "\n",
    "pd.set_option('display.max_columns', 100)\n",
    "pd.set_option('display.max_rows', 20)\n",
    "pd.set_option('display.max_colwidth', 50)"
   ]
  },
  {
   "cell_type": "code",
   "execution_count": 14,
   "metadata": {},
   "outputs": [
    {
     "name": "stdout",
     "output_type": "stream",
     "text": [
      "D:\\temp\\PlaMADE\\donnees\\N_TRONCON_ROUTE_BDT_016.SHP\n",
      "D:\\temp\\PlaMADE\\donnees\\N_TRONCON_ROUTE_BDT_016.SHP\n",
      "D:\\temp\\PlaMADE\\donnees\\N_TRONCON_ROUTE_BDT_017.SHP\n"
     ]
    },
    {
     "ename": "TypeError",
     "evalue": "creer_dept() takes 1 positional argument but 51 were given",
     "output_type": "error",
     "traceback": [
      "\u001b[1;31m---------------------------------------------------------------------------\u001b[0m",
      "\u001b[1;31mTypeError\u001b[0m                                 Traceback (most recent call last)",
      "\u001b[1;32m<ipython-input-14-b10e1de64693>\u001b[0m in \u001b[0;36m<module>\u001b[1;34m\u001b[0m\n\u001b[0;32m      6\u001b[0m \u001b[1;33m\u001b[0m\u001b[0m\n\u001b[0;32m      7\u001b[0m \u001b[1;33m\u001b[0m\u001b[0m\n\u001b[1;32m----> 8\u001b[1;33m \u001b[0mcreer_dept\u001b[0m\u001b[1;33m(\u001b[0m\u001b[0mliste_f\u001b[0m\u001b[1;33m)\u001b[0m\u001b[1;33m\u001b[0m\u001b[0m\n\u001b[0m",
      "\u001b[1;32m~\\git\\Outils\\Outils\\Martin_Perso\\Decorateurs.py\u001b[0m in \u001b[0;36mwrapper\u001b[1;34m(liste)\u001b[0m\n\u001b[0;32m     26\u001b[0m                     \u001b[0mtot\u001b[0m\u001b[1;33m=\u001b[0m\u001b[0mcreer_df\u001b[0m\u001b[1;33m(\u001b[0m\u001b[0mliste\u001b[0m\u001b[1;33m[\u001b[0m\u001b[0mi\u001b[0m\u001b[1;33m]\u001b[0m\u001b[1;33m)\u001b[0m\u001b[1;33m\u001b[0m\u001b[0m\n\u001b[0;32m     27\u001b[0m                 \u001b[1;32melse\u001b[0m \u001b[1;33m:\u001b[0m\u001b[1;33m\u001b[0m\u001b[0m\n\u001b[1;32m---> 28\u001b[1;33m                     \u001b[0mtot\u001b[0m\u001b[1;33m=\u001b[0m\u001b[0mpd\u001b[0m\u001b[1;33m.\u001b[0m\u001b[0mconcat\u001b[0m\u001b[1;33m(\u001b[0m\u001b[1;33m[\u001b[0m\u001b[0mtot\u001b[0m\u001b[1;33m,\u001b[0m\u001b[0mcreer_df\u001b[0m\u001b[1;33m(\u001b[0m\u001b[1;33m*\u001b[0m\u001b[0mliste\u001b[0m\u001b[1;33m[\u001b[0m\u001b[0mi\u001b[0m\u001b[1;33m]\u001b[0m\u001b[1;33m)\u001b[0m\u001b[1;33m]\u001b[0m\u001b[1;33m,\u001b[0m \u001b[0maxis\u001b[0m\u001b[1;33m=\u001b[0m\u001b[1;36m0\u001b[0m\u001b[1;33m,\u001b[0m\u001b[0msort\u001b[0m\u001b[1;33m=\u001b[0m\u001b[1;32mFalse\u001b[0m\u001b[1;33m)\u001b[0m\u001b[1;33m\u001b[0m\u001b[0m\n\u001b[0m\u001b[0;32m     29\u001b[0m         \u001b[1;32mreturn\u001b[0m \u001b[0mtot\u001b[0m\u001b[1;33m\u001b[0m\u001b[0m\n\u001b[0;32m     30\u001b[0m     \u001b[1;32mreturn\u001b[0m \u001b[0mwrapper\u001b[0m\u001b[1;33m\u001b[0m\u001b[0m\n",
      "\u001b[1;31mTypeError\u001b[0m: creer_dept() takes 1 positional argument but 51 were given"
     ]
    }
   ],
   "source": [
    "#TELECHARGER DES DONNEES depuis leserveur geomatique et les passer dans une bdd\n",
    "@concat_df\n",
    "def creer_dept(fichier):\n",
    "    return gp.read_file(fichier)\n",
    "\n",
    "\n",
    "creer_dept(liste_f)"
   ]
  },
  {
   "cell_type": "code",
   "execution_count": null,
   "metadata": {},
   "outputs": [],
   "source": [
    "#trsnfere des données dans une bdd\n",
    "with ct.ConnexionBdd('local_otv_station_gti') as c : \n",
    "    gdf.to_sql('troncon_route_bdtopo_2017_l', c., , index=False, \n",
    "                         dtype={'geom': Geometry('MULTILINESTRINGZ', srid=2154)}"
   ]
  },
  {
   "cell_type": "code",
   "execution_count": 5,
   "metadata": {},
   "outputs": [],
   "source": [
    "liste_f=[fr'D:\\temp\\PlaMADE\\donnees\\N_TRONCON_ROUTE_BDT_0{d}.SHP' for d in  ['16','17','86','79','19','23','87','33','24','40','64','47']]"
   ]
  },
  {
   "cell_type": "code",
   "execution_count": 6,
   "metadata": {},
   "outputs": [
    {
     "data": {
      "text/plain": [
       "['D:\\\\temp\\\\PlaMADE\\\\donnees\\\\N_TRONCON_ROUTE_BDT_016.SHP',\n",
       " 'D:\\\\temp\\\\PlaMADE\\\\donnees\\\\N_TRONCON_ROUTE_BDT_017.SHP',\n",
       " 'D:\\\\temp\\\\PlaMADE\\\\donnees\\\\N_TRONCON_ROUTE_BDT_086.SHP',\n",
       " 'D:\\\\temp\\\\PlaMADE\\\\donnees\\\\N_TRONCON_ROUTE_BDT_079.SHP',\n",
       " 'D:\\\\temp\\\\PlaMADE\\\\donnees\\\\N_TRONCON_ROUTE_BDT_019.SHP',\n",
       " 'D:\\\\temp\\\\PlaMADE\\\\donnees\\\\N_TRONCON_ROUTE_BDT_023.SHP',\n",
       " 'D:\\\\temp\\\\PlaMADE\\\\donnees\\\\N_TRONCON_ROUTE_BDT_087.SHP',\n",
       " 'D:\\\\temp\\\\PlaMADE\\\\donnees\\\\N_TRONCON_ROUTE_BDT_033.SHP',\n",
       " 'D:\\\\temp\\\\PlaMADE\\\\donnees\\\\N_TRONCON_ROUTE_BDT_024.SHP',\n",
       " 'D:\\\\temp\\\\PlaMADE\\\\donnees\\\\N_TRONCON_ROUTE_BDT_040.SHP',\n",
       " 'D:\\\\temp\\\\PlaMADE\\\\donnees\\\\N_TRONCON_ROUTE_BDT_064.SHP',\n",
       " 'D:\\\\temp\\\\PlaMADE\\\\donnees\\\\N_TRONCON_ROUTE_BDT_047.SHP']"
      ]
     },
     "execution_count": 6,
     "metadata": {},
     "output_type": "execute_result"
    }
   ],
   "source": [
    "liste_f"
   ]
  },
  {
   "cell_type": "code",
   "execution_count": null,
   "metadata": {},
   "outputs": [],
   "source": []
  }
 ],
 "metadata": {
  "kernelspec": {
   "display_name": "Python 3",
   "language": "python",
   "name": "python3"
  },
  "language_info": {
   "codemirror_mode": {
    "name": "ipython",
    "version": 3
   },
   "file_extension": ".py",
   "mimetype": "text/x-python",
   "name": "python",
   "nbconvert_exporter": "python",
   "pygments_lexer": "ipython3",
   "version": "3.7.0"
  }
 },
 "nbformat": 4,
 "nbformat_minor": 4
}
